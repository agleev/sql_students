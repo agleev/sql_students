{
 "cells": [
  {
   "cell_type": "code",
   "execution_count": 1,
   "id": "14203734",
   "metadata": {},
   "outputs": [],
   "source": [
    "import pandas as pd\n",
    "import psycopg2\n",
    "from config_postgresql import database, user, password, port, host"
   ]
  },
  {
   "cell_type": "code",
   "execution_count": 2,
   "id": "29125dfa",
   "metadata": {},
   "outputs": [],
   "source": [
    "connection = psycopg2.connect(database=database, user = user, password=password, port=port, host=host)\n",
    "connection.autocommit = True"
   ]
  },
  {
   "cell_type": "code",
   "execution_count": 3,
   "id": "fd451b8a",
   "metadata": {},
   "outputs": [],
   "source": [
    "def sql(request):\n",
    "    cursor = connection.cursor()\n",
    "    cursor.execute(request)\n",
    "    result = cursor.fetchall()\n",
    "    columns = []\n",
    "    for desc in cursor.description:\n",
    "        columns.append(desc[0])\n",
    "    \n",
    "    return pd.DataFrame(result, columns=columns)"
   ]
  },
  {
   "cell_type": "code",
   "execution_count": 4,
   "id": "aab7f4e2",
   "metadata": {},
   "outputs": [
    {
     "data": {
      "text/html": [
       "<div>\n",
       "<style scoped>\n",
       "    .dataframe tbody tr th:only-of-type {\n",
       "        vertical-align: middle;\n",
       "    }\n",
       "\n",
       "    .dataframe tbody tr th {\n",
       "        vertical-align: top;\n",
       "    }\n",
       "\n",
       "    .dataframe thead th {\n",
       "        text-align: right;\n",
       "    }\n",
       "</style>\n",
       "<table border=\"1\" class=\"dataframe\">\n",
       "  <thead>\n",
       "    <tr style=\"text-align: right;\">\n",
       "      <th></th>\n",
       "      <th>student_id</th>\n",
       "      <th>student_name</th>\n",
       "    </tr>\n",
       "  </thead>\n",
       "  <tbody>\n",
       "    <tr>\n",
       "      <th>0</th>\n",
       "      <td>1</td>\n",
       "      <td>student_1</td>\n",
       "    </tr>\n",
       "    <tr>\n",
       "      <th>1</th>\n",
       "      <td>2</td>\n",
       "      <td>student_2</td>\n",
       "    </tr>\n",
       "    <tr>\n",
       "      <th>2</th>\n",
       "      <td>3</td>\n",
       "      <td>student_3</td>\n",
       "    </tr>\n",
       "    <tr>\n",
       "      <th>3</th>\n",
       "      <td>4</td>\n",
       "      <td>student_4</td>\n",
       "    </tr>\n",
       "    <tr>\n",
       "      <th>4</th>\n",
       "      <td>5</td>\n",
       "      <td>student_5</td>\n",
       "    </tr>\n",
       "    <tr>\n",
       "      <th>...</th>\n",
       "      <td>...</td>\n",
       "      <td>...</td>\n",
       "    </tr>\n",
       "    <tr>\n",
       "      <th>123</th>\n",
       "      <td>124</td>\n",
       "      <td>student_60</td>\n",
       "    </tr>\n",
       "    <tr>\n",
       "      <th>124</th>\n",
       "      <td>125</td>\n",
       "      <td>student_61</td>\n",
       "    </tr>\n",
       "    <tr>\n",
       "      <th>125</th>\n",
       "      <td>126</td>\n",
       "      <td>student_62</td>\n",
       "    </tr>\n",
       "    <tr>\n",
       "      <th>126</th>\n",
       "      <td>127</td>\n",
       "      <td>student_63</td>\n",
       "    </tr>\n",
       "    <tr>\n",
       "      <th>127</th>\n",
       "      <td>128</td>\n",
       "      <td>student_64</td>\n",
       "    </tr>\n",
       "  </tbody>\n",
       "</table>\n",
       "<p>128 rows × 2 columns</p>\n",
       "</div>"
      ],
      "text/plain": [
       "     student_id student_name\n",
       "0             1    student_1\n",
       "1             2    student_2\n",
       "2             3    student_3\n",
       "3             4    student_4\n",
       "4             5    student_5\n",
       "..          ...          ...\n",
       "123         124   student_60\n",
       "124         125   student_61\n",
       "125         126   student_62\n",
       "126         127   student_63\n",
       "127         128   student_64\n",
       "\n",
       "[128 rows x 2 columns]"
      ]
     },
     "execution_count": 4,
     "metadata": {},
     "output_type": "execute_result"
    }
   ],
   "source": [
    "sql('''select * from student''')"
   ]
  },
  {
   "cell_type": "code",
   "execution_count": null,
   "id": "a285e062",
   "metadata": {},
   "outputs": [],
   "source": []
  }
 ],
 "metadata": {
  "kernelspec": {
   "display_name": "Python 3",
   "language": "python",
   "name": "python3"
  },
  "language_info": {
   "codemirror_mode": {
    "name": "ipython",
    "version": 3
   },
   "file_extension": ".py",
   "mimetype": "text/x-python",
   "name": "python",
   "nbconvert_exporter": "python",
   "pygments_lexer": "ipython3",
   "version": "3.8.8"
  }
 },
 "nbformat": 4,
 "nbformat_minor": 5
}
